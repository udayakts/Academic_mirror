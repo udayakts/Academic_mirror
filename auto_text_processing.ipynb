{
 "cells": [
  {
   "cell_type": "code",
   "execution_count": 1,
   "metadata": {
    "ExecuteTime": {
     "end_time": "2021-09-15T08:23:36.717268Z",
     "start_time": "2021-09-15T08:23:33.785364Z"
    }
   },
   "outputs": [],
   "source": [
    "import pandas as pd\n",
    "import glob\n",
    "import re\n",
    "from tqdm import tqdm\n",
    "import numpy as np\n",
    "import nltk\n",
    "from nltk.stem import WordNetLemmatizer\n",
    "from nltk.corpus import stopwords"
   ]
  },
  {
   "cell_type": "code",
   "execution_count": 2,
   "metadata": {
    "ExecuteTime": {
     "end_time": "2021-09-15T08:23:39.886644Z",
     "start_time": "2021-09-15T08:23:39.882924Z"
    }
   },
   "outputs": [],
   "source": [
    "path = r'20200705v1/full/processed' # use your path\n",
    "all_files = glob.glob(path + \"/body_txt_*.feather\")"
   ]
  },
  {
   "cell_type": "code",
   "execution_count": 3,
   "metadata": {
    "ExecuteTime": {
     "end_time": "2021-09-15T08:24:24.345389Z",
     "start_time": "2021-09-15T08:24:24.174547Z"
    }
   },
   "outputs": [
    {
     "name": "stdout",
     "output_type": "stream",
     "text": [
      "-----------------------------\n",
      "-----------------------------\n"
     ]
    },
    {
     "name": "stderr",
     "output_type": "stream",
     "text": [
      "[nltk_data] Downloading package punkt to /Users/udayts/nltk_data...\n",
      "[nltk_data]   Package punkt is already up-to-date!\n",
      "[nltk_data] Downloading package wordnet to /Users/udayts/nltk_data...\n",
      "[nltk_data]   Package wordnet is already up-to-date!\n",
      "[nltk_data] Downloading package stopwords to\n",
      "[nltk_data]     /Users/udayts/nltk_data...\n",
      "[nltk_data]   Package stopwords is already up-to-date!\n"
     ]
    },
    {
     "data": {
      "text/plain": [
       "True"
      ]
     },
     "execution_count": 3,
     "metadata": {},
     "output_type": "execute_result"
    }
   ],
   "source": [
    "#nltk.download(\"punkt\")\n",
    "#print(\"-----------------------------\")\n",
    "#nltk.download(\"wordnet\")\n",
    "#print(\"-----------------------------\")\n",
    "#nltk.download(\"stopwords\")"
   ]
  },
  {
   "cell_type": "code",
   "execution_count": 4,
   "metadata": {
    "ExecuteTime": {
     "end_time": "2021-09-15T08:24:31.061718Z",
     "start_time": "2021-09-15T08:24:31.049030Z"
    }
   },
   "outputs": [],
   "source": [
    "def process_textfile(path):\n",
    " \n",
    "    file_index = re.findall('\\d+', path)[-1]\n",
    "    \n",
    "    df = pd.read_feather(path)\n",
    "    \n",
    "    df_abstract = df.drop(columns=[\"body_text\"])\n",
    "    df_bodytext = df.drop(columns=['abstract_x'])\n",
    "    df_bodytext.dropna(inplace=True)\n",
    "    df_bodytext=df_bodytext[df_bodytext.body_text!='']\n",
    "    df_bodytext.reset_index(inplace=True, drop=True)\n",
    "    \n",
    "    '''\n",
    "    replace symbols with '' \n",
    "    '''\n",
    "    \n",
    "    p_signs = list(\"><?:;!.,&~+=-)/%(_\")\n",
    "    df_abstract[\"abstract_x_p_parsed0\"]=df_abstract[\"abstract_x\"]\n",
    "    df_bodytext[\"bodytext_p_parsed0\"]=df_bodytext[\"body_text\"]\n",
    "    for sign in p_signs:\n",
    "        df_abstract[\"abstract_x_p_parsed0\"]=df_abstract[\"abstract_x_p_parsed0\"].str.replace(sign, '')\n",
    "        df_bodytext[\"bodytext_p_parsed0\"]=df_bodytext[\"bodytext_p_parsed0\"].str.replace(sign, '')\n",
    "    \n",
    "    '''\n",
    "    replace 's pronouns with '' \n",
    "    '''    \n",
    "    \n",
    "    df_abstract[\"abstract_x_p_parsed1\"] = df_abstract[\"abstract_x_p_parsed0\"].str.replace(\"'s\", \"\")\n",
    "    df_bodytext[\"bodytext_p_parsed1\"] = df_bodytext[\"bodytext_p_parsed0\"].str.replace(\"'s\", \"\")\n",
    "    \n",
    "    '''Lemmatization'''\n",
    "    \n",
    "    wordnet_lemmatizer = WordNetLemmatizer()\n",
    "    x_rows = len(df_abstract)\n",
    "    y_rows = len(df_bodytext)\n",
    "    lemma_abstract_textlist = []\n",
    "    lemma_bodytext_textlist = []\n",
    "    for row in range(0,x_rows):\n",
    "        lemma_abstract_list = []\n",
    "        text_abstract = df_abstract.loc[row][\"abstract_x_p_parsed1\"]\n",
    "        text_abstract_words = text_abstract.split(\" \")\n",
    "        for abstract_word in text_abstract_words:\n",
    "            lemma_abstract_list.append(wordnet_lemmatizer.lemmatize(abstract_word, pos=\"v\"))\n",
    "        lemma_abstract_text = \" \".join(lemma_abstract_list)\n",
    "        lemma_abstract_textlist.append(lemma_abstract_text)\n",
    "    for row in range(0,y_rows):\n",
    "        lemma_bodytext_list = []\n",
    "        text_bodytext = df_bodytext.loc[row][\"bodytext_p_parsed1\"]\n",
    "        text_bodytext_words = text_bodytext.split(\" \")\n",
    "        for bodytext_word in text_bodytext_words:\n",
    "            lemma_bodytext_list.append(wordnet_lemmatizer.lemmatize(bodytext_word, pos=\"v\"))\n",
    "        lemma_bodytext_text = \" \".join(lemma_bodytext_list)\n",
    "        lemma_bodytext_textlist.append(lemma_bodytext_text)\n",
    "    df_abstract[\"abstract_x_p_parsed2\"] = lemma_abstract_textlist\n",
    "    df_bodytext[\"bodytext_p_parsed2\"] = lemma_bodytext_textlist    \n",
    "    \n",
    "    stop_words = list(stopwords.words('english'))\n",
    "    df_abstract[\"abstract_x_p_parsed3\"] = df_abstract[\"abstract_x_p_parsed2\"]\n",
    "    df_bodytext[\"bodytext_p_parsed3\"] = df_bodytext[\"bodytext_p_parsed2\"]\n",
    "    for stop_word in stop_words:\n",
    "        regex_stopword = r\"\\b\" + stop_word + r\"\\b\"\n",
    "        df_abstract[\"abstract_x_p_parsed3\"] = df_abstract[\"abstract_x_p_parsed3\"].str.replace(regex_stopword, \"\")\n",
    "        df_bodytext[\"bodytext_p_parsed3\"] = df_bodytext[\"bodytext_p_parsed3\"].str.replace(regex_stopword, \"\")\n",
    "    \n",
    "    list_col_abstract = ['paper_id', 'abstract_x', 'mag_field_of_study', 'abstract_x_p_parsed3']\n",
    "    list_col_bodytext = ['paper_id', 'mag_field_of_study', 'body_text', 'bodytext_p_parsed3']\n",
    "    df_abstract1=df_abstract[list_col_abstract]\n",
    "    df_bodytext1=df_bodytext[list_col_bodytext]\n",
    "    df_abstract1=df_abstract1.rename(columns={\"abstract_x_p_parsed3\": \"abstract_parsed\"})\n",
    "    df_bodytext1=df_bodytext1.rename(columns={\"bodytext_p_parsed3\": \"bodytext_parsed\"})\n",
    "    \n",
    "    fieldstudy_codes={\n",
    "    'Medicine': 0,\n",
    "    'Chemistry': 1,\n",
    "    'Physics': 2,\n",
    "    'Mathematics': 3,\n",
    "    'Biology': 4,\n",
    "    'Computer Science':5\n",
    "    }\n",
    "    df_abstract1[\"fieldstudy_code\"]= df_abstract1[\"mag_field_of_study\"]\n",
    "    df_abstract1 = df_abstract1.replace({\"fieldstudy_code\":fieldstudy_codes})\n",
    "    df_bodytext1[\"fieldstudy_code\"]= df_bodytext1[\"mag_field_of_study\"]\n",
    "    df_bodytext1 = df_bodytext1.replace({\"fieldstudy_code\":fieldstudy_codes})\n",
    "    \n",
    "    df_abstract1.to_feather(f'20200705v1/full/text_processed/abstract_{file_index}.feather')\n",
    "    df_bodytext1.to_feather(f'20200705v1/full/text_processed/bodytext_{file_index}.feather')\n",
    "    "
   ]
  },
  {
   "cell_type": "code",
   "execution_count": null,
   "metadata": {
    "ExecuteTime": {
     "start_time": "2021-09-15T08:24:34.140Z"
    }
   },
   "outputs": [
    {
     "name": "stderr",
     "output_type": "stream",
     "text": [
      "  6%|▌         | 2/35 [4:22:03<73:31:59, 8021.80s/it]"
     ]
    }
   ],
   "source": [
    "for path in tqdm(all_files):\n",
    "    process_textfile(path)"
   ]
  },
  {
   "cell_type": "code",
   "execution_count": null,
   "metadata": {},
   "outputs": [],
   "source": []
  }
 ],
 "metadata": {
  "kernelspec": {
   "display_name": "Python 3",
   "language": "python",
   "name": "python3"
  },
  "language_info": {
   "codemirror_mode": {
    "name": "ipython",
    "version": 3
   },
   "file_extension": ".py",
   "mimetype": "text/x-python",
   "name": "python",
   "nbconvert_exporter": "python",
   "pygments_lexer": "ipython3",
   "version": "3.7.10"
  },
  "toc": {
   "base_numbering": 1,
   "nav_menu": {},
   "number_sections": true,
   "sideBar": true,
   "skip_h1_title": false,
   "title_cell": "Table of Contents",
   "title_sidebar": "Contents",
   "toc_cell": false,
   "toc_position": {},
   "toc_section_display": true,
   "toc_window_display": false
  }
 },
 "nbformat": 4,
 "nbformat_minor": 4
}
