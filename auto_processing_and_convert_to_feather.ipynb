{
 "cells": [
  {
   "cell_type": "code",
   "execution_count": 1,
   "metadata": {
    "ExecuteTime": {
     "end_time": "2021-09-14T11:06:54.348083Z",
     "start_time": "2021-09-14T11:06:53.419744Z"
    }
   },
   "outputs": [],
   "source": [
    "import pandas as pd\n",
    "#pd.set_option('display.max_rows', None)\n",
    "#from sklearn.feature_extraction.text import CountVectorizer\n",
    "#from sklearn import linear_model\n",
    "from tqdm import tqdm\n",
    "import numpy as np\n",
    "import json as json"
   ]
  },
  {
   "cell_type": "markdown",
   "metadata": {},
   "source": [
    "## the following functions are created based on the sample_files_to_feather_file.ipynb"
   ]
  },
  {
   "cell_type": "code",
   "execution_count": 2,
   "metadata": {
    "ExecuteTime": {
     "end_time": "2021-09-14T11:06:54.353885Z",
     "start_time": "2021-09-14T11:06:54.350411Z"
    }
   },
   "outputs": [],
   "source": [
    "def get_text(y):\n",
    "    if y!=y:\n",
    "        return np.nan\n",
    "    else:\n",
    "        text = ''\n",
    "        for dict_ in y:\n",
    "            text = text+' '+dict_['text'] \n",
    "        return text"
   ]
  },
  {
   "cell_type": "code",
   "execution_count": 3,
   "metadata": {
    "ExecuteTime": {
     "end_time": "2021-09-14T11:06:54.369382Z",
     "start_time": "2021-09-14T11:06:54.364421Z"
    }
   },
   "outputs": [],
   "source": [
    "\n",
    "def get_dataframe(file_index):\n",
    "    print('processesing')\n",
    "    metadata_path = f'20200705v1/full/metadata/metadata_{file_index}.jsonl.gz'\n",
    "    pdf_parses_path = f'20200705v1/full/pdf_parses/pdf_parses_{file_index}.jsonl.gz'\n",
    "    df=pd.read_json(metadata_path, lines=True)\n",
    "    df_pdf = pd.read_json(pdf_parses_path, lines=True)\n",
    "    df_abstract = df.filter(['paper_id', 'abstract', 'mag_field_of_study']).dropna()\n",
    "    df_abstract.mag_field_of_study=df_abstract.mag_field_of_study.str[0]\n",
    "    df_abst_pmbccm = df_abstract.loc[df_abstract.mag_field_of_study.isin(['Computer Science', 'Physics', 'Medicine', 'Biology', 'Chemistry', 'Mathematics'])]\n",
    "    df_merged = df_abst_pmbccm.merge(df_pdf, on='paper_id', how='left').drop(columns=['_pdf_hash', 'bib_entries', 'ref_entries', 'abstract_y'])\n",
    "    df_merged.body_text = df_merged['body_text'].apply(get_text)\n",
    "    df_merged.to_feather(f'20200705v1/full/processed/body_txt_{file_index}.feather')"
   ]
  },
  {
   "cell_type": "markdown",
   "metadata": {},
   "source": [
    "##### The following will go through all the downloaded metadata files and respective pdf_parses, filter specific columns and specific mag_filed_of_study, extract only text key values from body_text column and finally, convert to a feather file for each set of metadat file and pdf_parse file. "
   ]
  },
  {
   "cell_type": "code",
   "execution_count": null,
   "metadata": {
    "ExecuteTime": {
     "start_time": "2021-09-14T11:06:53.423Z"
    }
   },
   "outputs": [
    {
     "name": "stderr",
     "output_type": "stream",
     "text": [
      "\r",
      "  0%|          | 0/22 [00:00<?, ?it/s]"
     ]
    },
    {
     "name": "stdout",
     "output_type": "stream",
     "text": [
      "processesing\n"
     ]
    },
    {
     "name": "stderr",
     "output_type": "stream",
     "text": [
      "\r",
      "  5%|▍         | 1/22 [3:00:56<63:19:56, 10856.99s/it]"
     ]
    },
    {
     "name": "stdout",
     "output_type": "stream",
     "text": [
      "processesing\n"
     ]
    },
    {
     "name": "stderr",
     "output_type": "stream",
     "text": [
      "\r",
      "  9%|▉         | 2/22 [7:44:15<70:33:07, 12699.37s/it]"
     ]
    },
    {
     "name": "stdout",
     "output_type": "stream",
     "text": [
      "processesing\n"
     ]
    },
    {
     "name": "stderr",
     "output_type": "stream",
     "text": [
      "\r",
      " 14%|█▎        | 3/22 [12:05:03<71:41:33, 13583.89s/it]"
     ]
    },
    {
     "name": "stdout",
     "output_type": "stream",
     "text": [
      "processesing\n"
     ]
    },
    {
     "name": "stderr",
     "output_type": "stream",
     "text": [
      "\r",
      " 18%|█▊        | 4/22 [15:00:01<63:17:29, 12658.32s/it]"
     ]
    },
    {
     "name": "stdout",
     "output_type": "stream",
     "text": [
      "processesing\n"
     ]
    },
    {
     "name": "stderr",
     "output_type": "stream",
     "text": [
      "\r",
      " 23%|██▎       | 5/22 [16:38:33<50:13:02, 10634.24s/it]"
     ]
    },
    {
     "name": "stdout",
     "output_type": "stream",
     "text": [
      "processesing\n"
     ]
    },
    {
     "name": "stderr",
     "output_type": "stream",
     "text": [
      "\r",
      " 27%|██▋       | 6/22 [16:59:35<34:46:00, 7822.56s/it] "
     ]
    },
    {
     "name": "stdout",
     "output_type": "stream",
     "text": [
      "processesing\n"
     ]
    },
    {
     "name": "stderr",
     "output_type": "stream",
     "text": [
      "\r",
      " 32%|███▏      | 7/22 [17:20:42<24:24:01, 5856.13s/it]"
     ]
    },
    {
     "name": "stdout",
     "output_type": "stream",
     "text": [
      "processesing\n"
     ]
    },
    {
     "name": "stderr",
     "output_type": "stream",
     "text": [
      "\r",
      " 36%|███▋      | 8/22 [17:42:54<17:29:42, 4498.73s/it]"
     ]
    },
    {
     "name": "stdout",
     "output_type": "stream",
     "text": [
      "processesing\n"
     ]
    },
    {
     "name": "stderr",
     "output_type": "stream",
     "text": [
      "\r",
      " 41%|████      | 9/22 [18:04:31<12:46:37, 3538.29s/it]"
     ]
    },
    {
     "name": "stdout",
     "output_type": "stream",
     "text": [
      "processesing\n"
     ]
    },
    {
     "name": "stderr",
     "output_type": "stream",
     "text": [
      "\r",
      " 45%|████▌     | 10/22 [18:52:53<11:09:27, 3347.30s/it]"
     ]
    },
    {
     "name": "stdout",
     "output_type": "stream",
     "text": [
      "processesing\n"
     ]
    },
    {
     "name": "stderr",
     "output_type": "stream",
     "text": [
      "\r",
      " 50%|█████     | 11/22 [19:59:26<10:49:11, 3541.04s/it]"
     ]
    },
    {
     "name": "stdout",
     "output_type": "stream",
     "text": [
      "processesing\n"
     ]
    },
    {
     "name": "stderr",
     "output_type": "stream",
     "text": [
      "\r",
      " 55%|█████▍    | 12/22 [20:22:44<8:03:02, 2898.29s/it] "
     ]
    },
    {
     "name": "stdout",
     "output_type": "stream",
     "text": [
      "processesing\n"
     ]
    },
    {
     "name": "stderr",
     "output_type": "stream",
     "text": [
      "\r",
      " 59%|█████▉    | 13/22 [20:45:46<6:06:29, 2443.23s/it]"
     ]
    },
    {
     "name": "stdout",
     "output_type": "stream",
     "text": [
      "processesing\n"
     ]
    },
    {
     "name": "stderr",
     "output_type": "stream",
     "text": [
      "\r",
      " 64%|██████▎   | 14/22 [21:17:36<5:04:26, 2283.30s/it]"
     ]
    },
    {
     "name": "stdout",
     "output_type": "stream",
     "text": [
      "processesing\n"
     ]
    }
   ],
   "source": [
    "for i in tqdm(range(0, 100)):\n",
    "    get_dataframe(i)"
   ]
  },
  {
   "cell_type": "code",
   "execution_count": null,
   "metadata": {},
   "outputs": [],
   "source": []
  }
 ],
 "metadata": {
  "kernelspec": {
   "display_name": "Python 3",
   "language": "python",
   "name": "python3"
  },
  "language_info": {
   "codemirror_mode": {
    "name": "ipython",
    "version": 3
   },
   "file_extension": ".py",
   "mimetype": "text/x-python",
   "name": "python",
   "nbconvert_exporter": "python",
   "pygments_lexer": "ipython3",
   "version": "3.7.10"
  },
  "toc": {
   "base_numbering": 1,
   "nav_menu": {},
   "number_sections": true,
   "sideBar": true,
   "skip_h1_title": false,
   "title_cell": "Table of Contents",
   "title_sidebar": "Contents",
   "toc_cell": false,
   "toc_position": {},
   "toc_section_display": true,
   "toc_window_display": false
  }
 },
 "nbformat": 4,
 "nbformat_minor": 4
}
