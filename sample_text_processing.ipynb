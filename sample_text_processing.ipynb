{
 "cells": [
  {
   "cell_type": "code",
   "execution_count": 1,
   "id": "4a11c01a",
   "metadata": {
    "ExecuteTime": {
     "end_time": "2021-09-15T07:30:52.336210Z",
     "start_time": "2021-09-15T07:30:49.906651Z"
    }
   },
   "outputs": [],
   "source": [
    "import pandas as pd\n",
    "import numpy as np\n",
    "#from sklearn.model_selection import train_test_split\n",
    "import matplotlib.pyplot as plt\n",
    "import seaborn as sn\n",
    "import nltk\n",
    "from nltk.stem import WordNetLemmatizer\n",
    "from nltk.corpus import stopwords"
   ]
  },
  {
   "cell_type": "code",
   "execution_count": 2,
   "id": "81f8b384",
   "metadata": {},
   "outputs": [],
   "source": [
    "#!pip install pyarrow"
   ]
  },
  {
   "cell_type": "markdown",
   "id": "7a6c8044",
   "metadata": {},
   "source": [
    "### 1. read .feather file as a df"
   ]
  },
  {
   "cell_type": "code",
   "execution_count": 3,
   "id": "cb8c767d",
   "metadata": {
    "ExecuteTime": {
     "end_time": "2021-09-15T07:30:52.509717Z",
     "start_time": "2021-09-15T07:30:52.339144Z"
    }
   },
   "outputs": [],
   "source": [
    "df = pd.read_feather(\"../s2orc/20200705v1/sample/df_merged.feather\")"
   ]
  },
  {
   "cell_type": "code",
   "execution_count": 4,
   "id": "ed9cf55d",
   "metadata": {},
   "outputs": [
    {
     "data": {
      "text/html": [
       "<div>\n",
       "<style scoped>\n",
       "    .dataframe tbody tr th:only-of-type {\n",
       "        vertical-align: middle;\n",
       "    }\n",
       "\n",
       "    .dataframe tbody tr th {\n",
       "        vertical-align: top;\n",
       "    }\n",
       "\n",
       "    .dataframe thead th {\n",
       "        text-align: right;\n",
       "    }\n",
       "</style>\n",
       "<table border=\"1\" class=\"dataframe\">\n",
       "  <thead>\n",
       "    <tr style=\"text-align: right;\">\n",
       "      <th></th>\n",
       "      <th>paper_id</th>\n",
       "      <th>abstract_x</th>\n",
       "      <th>mag_field_of_study</th>\n",
       "      <th>body_text</th>\n",
       "    </tr>\n",
       "  </thead>\n",
       "  <tbody>\n",
       "    <tr>\n",
       "      <th>0</th>\n",
       "      <td>77491955</td>\n",
       "      <td>OBJECTIVE: To report a case of a large, bilate...</td>\n",
       "      <td>Medicine</td>\n",
       "      <td>None</td>\n",
       "    </tr>\n",
       "    <tr>\n",
       "      <th>1</th>\n",
       "      <td>77493472</td>\n",
       "      <td>Leukotrienes (LTs) are important lipid mediato...</td>\n",
       "      <td>Medicine</td>\n",
       "      <td>None</td>\n",
       "    </tr>\n",
       "    <tr>\n",
       "      <th>2</th>\n",
       "      <td>77494170</td>\n",
       "      <td>A NDB bull weighing 350kg underwent a ruffian ...</td>\n",
       "      <td>Medicine</td>\n",
       "      <td>None</td>\n",
       "    </tr>\n",
       "  </tbody>\n",
       "</table>\n",
       "</div>"
      ],
      "text/plain": [
       "   paper_id                                         abstract_x  \\\n",
       "0  77491955  OBJECTIVE: To report a case of a large, bilate...   \n",
       "1  77493472  Leukotrienes (LTs) are important lipid mediato...   \n",
       "2  77494170  A NDB bull weighing 350kg underwent a ruffian ...   \n",
       "\n",
       "  mag_field_of_study body_text  \n",
       "0           Medicine      None  \n",
       "1           Medicine      None  \n",
       "2           Medicine      None  "
      ]
     },
     "execution_count": 4,
     "metadata": {},
     "output_type": "execute_result"
    }
   ],
   "source": [
    "df.head(3)"
   ]
  },
  {
   "cell_type": "code",
   "execution_count": 5,
   "id": "b884cd2f",
   "metadata": {},
   "outputs": [
    {
     "data": {
      "text/plain": [
       "(368, 4)"
      ]
     },
     "execution_count": 5,
     "metadata": {},
     "output_type": "execute_result"
    }
   ],
   "source": [
    "df.shape"
   ]
  },
  {
   "cell_type": "code",
   "execution_count": 6,
   "id": "684d3aae",
   "metadata": {},
   "outputs": [],
   "source": [
    "#df_abstract = df.filter(['paper_id', 'abstract_x', 'mag_field_of_study']).dropna()\n",
    "#df_abstract"
   ]
  },
  {
   "cell_type": "code",
   "execution_count": 7,
   "id": "584924f9",
   "metadata": {},
   "outputs": [],
   "source": [
    "#df_abstract"
   ]
  },
  {
   "cell_type": "code",
   "execution_count": 8,
   "id": "775182ee",
   "metadata": {
    "ExecuteTime": {
     "end_time": "2021-09-15T07:30:52.517586Z",
     "start_time": "2021-09-15T07:30:52.512183Z"
    }
   },
   "outputs": [],
   "source": [
    "df_abstract = df.drop(columns=[\"body_text\"])\n",
    "df_bodytext = df.drop(columns=['abstract_x'])"
   ]
  },
  {
   "cell_type": "markdown",
   "id": "78f8dc18",
   "metadata": {},
   "source": [
    "### 2. make a countplot"
   ]
  },
  {
   "cell_type": "code",
   "execution_count": 9,
   "id": "c3daeae3",
   "metadata": {
    "ExecuteTime": {
     "end_time": "2021-09-15T07:30:52.686866Z",
     "start_time": "2021-09-15T07:30:52.520106Z"
    }
   },
   "outputs": [
    {
     "data": {
      "text/plain": [
       "<AxesSubplot:xlabel='mag_field_of_study', ylabel='count'>"
      ]
     },
     "execution_count": 9,
     "metadata": {},
     "output_type": "execute_result"
    },
    {
     "data": {
      "image/png": "[encoded data removed]",
      "text/plain": [
       "<Figure size 432x288 with 1 Axes>"
      ]
     },
     "metadata": {
      "needs_background": "light"
     },
     "output_type": "display_data"
    }
   ],
   "source": [
    "sn.countplot(data=df_abstract, x=df.mag_field_of_study)"
   ]
  },
  {
   "cell_type": "markdown",
   "id": "ac7db6bc",
   "metadata": {},
   "source": [
    "### 3. calculate length of abstract_x column_value lengths"
   ]
  },
  {
   "cell_type": "code",
   "execution_count": 10,
   "id": "7781c40a",
   "metadata": {
    "ExecuteTime": {
     "end_time": "2021-09-15T07:30:52.693449Z",
     "start_time": "2021-09-15T07:30:52.688849Z"
    }
   },
   "outputs": [],
   "source": [
    "df_abstract[\"abs_len\"] = df_abstract.abstract_x.apply(len)"
   ]
  },
  {
   "cell_type": "code",
   "execution_count": 11,
   "id": "3a593030",
   "metadata": {
    "ExecuteTime": {
     "end_time": "2021-09-15T07:30:52.975386Z",
     "start_time": "2021-09-15T07:30:52.695321Z"
    }
   },
   "outputs": [
    {
     "data": {
      "text/plain": [
       "<AxesSubplot:xlabel='mag_field_of_study', ylabel='abs_len'>"
      ]
     },
     "execution_count": 11,
     "metadata": {},
     "output_type": "execute_result"
    },
    {
     "data": {
      "image/png": "[encoded data removed]",
      "text/plain": [
       "<Figure size 432x288 with 1 Axes>"
      ]
     },
     "metadata": {
      "needs_background": "light"
     },
     "output_type": "display_data"
    }
   ],
   "source": [
    "sn.boxplot(x=df_abstract.mag_field_of_study, y=df_abstract.abs_len)"
   ]
  },
  {
   "cell_type": "markdown",
   "id": "1c5e8056",
   "metadata": {},
   "source": [
    "### 4. Drop rows with none values and empty strings based on the body_text column"
   ]
  },
  {
   "cell_type": "code",
   "execution_count": 12,
   "id": "eb58c155",
   "metadata": {
    "ExecuteTime": {
     "end_time": "2021-09-15T07:30:52.995223Z",
     "start_time": "2021-09-15T07:30:52.977576Z"
    },
    "scrolled": true
   },
   "outputs": [],
   "source": [
    "df_bodytext.dropna(inplace=True)\n",
    "df_bodytext=df_bodytext[df_bodytext.body_text!='']\n",
    "df_bodytext.reset_index(inplace=True, drop=True)"
   ]
  },
  {
   "cell_type": "code",
   "execution_count": 13,
   "id": "6057affa",
   "metadata": {
    "ExecuteTime": {
     "end_time": "2021-09-15T07:30:53.174616Z",
     "start_time": "2021-09-15T07:30:52.998808Z"
    }
   },
   "outputs": [
    {
     "data": {
      "text/plain": [
       "<AxesSubplot:xlabel='mag_field_of_study', ylabel='count'>"
      ]
     },
     "execution_count": 13,
     "metadata": {},
     "output_type": "execute_result"
    },
    {
     "data": {
      "image/png": "[encoded data removed]",
      "text/plain": [
       "<Figure size 432x288 with 1 Axes>"
      ]
     },
     "metadata": {
      "needs_background": "light"
     },
     "output_type": "display_data"
    }
   ],
   "source": [
    "sn.countplot(data=df_bodytext, x=df_bodytext.mag_field_of_study)"
   ]
  },
  {
   "cell_type": "markdown",
   "id": "66d67abd",
   "metadata": {},
   "source": [
    "### 5. calculate the body_text values length"
   ]
  },
  {
   "cell_type": "code",
   "execution_count": 14,
   "id": "0925fb08",
   "metadata": {
    "ExecuteTime": {
     "end_time": "2021-09-15T07:30:53.181901Z",
     "start_time": "2021-09-15T07:30:53.177417Z"
    }
   },
   "outputs": [],
   "source": [
    "df_bodytext[\"body_len\"] = df_bodytext.body_text.apply(len)"
   ]
  },
  {
   "cell_type": "code",
   "execution_count": 15,
   "id": "e1e868b4",
   "metadata": {
    "ExecuteTime": {
     "end_time": "2021-09-15T07:30:53.384446Z",
     "start_time": "2021-09-15T07:30:53.183978Z"
    }
   },
   "outputs": [
    {
     "data": {
      "text/plain": [
       "<AxesSubplot:xlabel='mag_field_of_study', ylabel='body_len'>"
      ]
     },
     "execution_count": 15,
     "metadata": {},
     "output_type": "execute_result"
    },
    {
     "data": {
      "image/png": "[encoded data removed]",
      "text/plain": [
       "<Figure size 432x288 with 1 Axes>"
      ]
     },
     "metadata": {
      "needs_background": "light"
     },
     "output_type": "display_data"
    }
   ],
   "source": [
    "sn.boxplot(x=df_bodytext.mag_field_of_study, y=df_bodytext.body_len)"
   ]
  },
  {
   "cell_type": "markdown",
   "id": "48c3c0fa",
   "metadata": {},
   "source": [
    "### 6. symbols"
   ]
  },
  {
   "cell_type": "code",
   "execution_count": 16,
   "id": "2a918cd5",
   "metadata": {
    "ExecuteTime": {
     "end_time": "2021-09-15T07:30:53.445861Z",
     "start_time": "2021-09-15T07:30:53.386472Z"
    }
   },
   "outputs": [
    {
     "name": "stderr",
     "output_type": "stream",
     "text": [
      "/Users/udayts/opt/anaconda3/lib/python3.7/site-packages/ipykernel_launcher.py:8: FutureWarning: The default value of regex will change from True to False in a future version. In addition, single character regular expressions will*not* be treated as literal strings when regex=True.\n",
      "  \n",
      "/Users/udayts/opt/anaconda3/lib/python3.7/site-packages/ipykernel_launcher.py:9: FutureWarning: The default value of regex will change from True to False in a future version. In addition, single character regular expressions will*not* be treated as literal strings when regex=True.\n",
      "  if __name__ == '__main__':\n"
     ]
    }
   ],
   "source": [
    "p_signs = list(\"><?:;!.,&~+=-)/%(_\")\n",
    "\n",
    "df_abstract[\"abstract_x_p_parsed0\"]=df_abstract[\"abstract_x\"]\n",
    "df_bodytext[\"bodytext_p_parsed0\"]=df_bodytext[\"body_text\"]\n",
    "\n",
    "\n",
    "for sign in p_signs:\n",
    "    df_abstract[\"abstract_x_p_parsed0\"]=df_abstract[\"abstract_x_p_parsed0\"].str.replace(sign, '')\n",
    "    df_bodytext[\"bodytext_p_parsed0\"]=df_bodytext[\"bodytext_p_parsed0\"].str.replace(sign, '')\n"
   ]
  },
  {
   "cell_type": "markdown",
   "id": "97e9bf7b",
   "metadata": {},
   "source": [
    "### 7. 's removal"
   ]
  },
  {
   "cell_type": "code",
   "execution_count": 17,
   "id": "2c6bdfb5",
   "metadata": {
    "ExecuteTime": {
     "end_time": "2021-09-15T07:30:53.457011Z",
     "start_time": "2021-09-15T07:30:53.447829Z"
    }
   },
   "outputs": [],
   "source": [
    "df_abstract[\"abstract_x_p_parsed1\"] = df_abstract[\"abstract_x_p_parsed0\"].str.replace(\"'s\", \"\")\n",
    "df_bodytext[\"bodytext_p_parsed1\"] = df_bodytext[\"bodytext_p_parsed0\"].str.replace(\"'s\", \"\")"
   ]
  },
  {
   "cell_type": "markdown",
   "id": "dbc36ae3",
   "metadata": {},
   "source": [
    "### 8. Lemmatization"
   ]
  },
  {
   "cell_type": "code",
   "execution_count": 18,
   "id": "24911403",
   "metadata": {
    "ExecuteTime": {
     "end_time": "2021-09-15T07:30:53.602905Z",
     "start_time": "2021-09-15T07:30:53.459290Z"
    }
   },
   "outputs": [],
   "source": [
    "#nltk.download(\"punkt\")\n",
    "#print(\"-----------------------------\")\n",
    "#nltk.download(\"wordnet\")"
   ]
  },
  {
   "cell_type": "code",
   "execution_count": 19,
   "id": "9a37cb13",
   "metadata": {
    "ExecuteTime": {
     "end_time": "2021-09-15T07:30:53.608488Z",
     "start_time": "2021-09-15T07:30:53.605222Z"
    }
   },
   "outputs": [],
   "source": [
    "wordnet_lemmatizer = WordNetLemmatizer()"
   ]
  },
  {
   "cell_type": "code",
   "execution_count": 20,
   "id": "315a37d6",
   "metadata": {
    "ExecuteTime": {
     "end_time": "2021-09-15T07:30:56.000272Z",
     "start_time": "2021-09-15T07:30:53.610274Z"
    }
   },
   "outputs": [],
   "source": [
    "x_rows = len(df_abstract)\n",
    "y_rows = len(df_bodytext)\n",
    "\n",
    "\n",
    "lemma_abstract_textlist = []\n",
    "lemma_bodytext_textlist = []\n",
    "\n",
    "\n",
    "for row in range(0,x_rows):\n",
    "    lemma_abstract_list = []\n",
    "    text_abstract = df_abstract.loc[row][\"abstract_x_p_parsed1\"]\n",
    "    text_abstract_words = text_abstract.split(\" \")\n",
    "    \n",
    "    for abstract_word in text_abstract_words:\n",
    "        lemma_abstract_list.append(wordnet_lemmatizer.lemmatize(abstract_word, pos=\"v\"))\n",
    "    \n",
    "    lemma_abstract_text = \" \".join(lemma_abstract_list)\n",
    "    lemma_abstract_textlist.append(lemma_abstract_text)\n",
    "    \n",
    "    \n",
    "for row in range(0,y_rows):\n",
    "    lemma_bodytext_list = []\n",
    "    text_bodytext = df_bodytext.loc[row][\"bodytext_p_parsed1\"]\n",
    "    text_bodytext_words = text_bodytext.split(\" \")\n",
    "    \n",
    "    for bodytext_word in text_bodytext_words:\n",
    "        lemma_bodytext_list.append(wordnet_lemmatizer.lemmatize(bodytext_word, pos=\"v\"))\n",
    "    \n",
    "    lemma_bodytext_text = \" \".join(lemma_bodytext_list)\n",
    "    lemma_bodytext_textlist.append(lemma_bodytext_text)"
   ]
  },
  {
   "cell_type": "code",
   "execution_count": 21,
   "id": "04fe25a6",
   "metadata": {
    "ExecuteTime": {
     "end_time": "2021-09-15T07:30:56.009719Z",
     "start_time": "2021-09-15T07:30:56.002093Z"
    }
   },
   "outputs": [],
   "source": [
    "df_abstract[\"abstract_x_p_parsed2\"] = lemma_abstract_textlist\n",
    "df_bodytext[\"bodytext_p_parsed2\"] = lemma_bodytext_textlist"
   ]
  },
  {
   "cell_type": "markdown",
   "id": "1f15b7e6",
   "metadata": {},
   "source": [
    "### 9. stop words"
   ]
  },
  {
   "cell_type": "code",
   "execution_count": 22,
   "id": "6c43eec3",
   "metadata": {
    "ExecuteTime": {
     "end_time": "2021-09-15T07:30:56.033823Z",
     "start_time": "2021-09-15T07:30:56.016050Z"
    }
   },
   "outputs": [
    {
     "name": "stderr",
     "output_type": "stream",
     "text": [
      "[nltk_data] Downloading package stopwords to\n",
      "[nltk_data]     /Users/udayts/nltk_data...\n",
      "[nltk_data]   Package stopwords is already up-to-date!\n"
     ]
    },
    {
     "data": {
      "text/plain": [
       "True"
      ]
     },
     "execution_count": 22,
     "metadata": {},
     "output_type": "execute_result"
    }
   ],
   "source": [
    "nltk.download(\"stopwords\")"
   ]
  },
  {
   "cell_type": "code",
   "execution_count": 23,
   "id": "0e2e587f",
   "metadata": {
    "ExecuteTime": {
     "end_time": "2021-09-15T07:30:56.043519Z",
     "start_time": "2021-09-15T07:30:56.036381Z"
    }
   },
   "outputs": [],
   "source": [
    "stop_words = list(stopwords.words('english'))"
   ]
  },
  {
   "cell_type": "code",
   "execution_count": 24,
   "id": "68734fd0",
   "metadata": {
    "ExecuteTime": {
     "end_time": "2021-09-15T07:30:56.049805Z",
     "start_time": "2021-09-15T07:30:56.046647Z"
    }
   },
   "outputs": [],
   "source": [
    "#stop_words[0:10]"
   ]
  },
  {
   "cell_type": "code",
   "execution_count": 25,
   "id": "68d77135",
   "metadata": {
    "ExecuteTime": {
     "end_time": "2021-09-15T07:31:00.643181Z",
     "start_time": "2021-09-15T07:30:56.051692Z"
    },
    "scrolled": true
   },
   "outputs": [
    {
     "name": "stderr",
     "output_type": "stream",
     "text": [
      "/Users/udayts/opt/anaconda3/lib/python3.7/site-packages/ipykernel_launcher.py:6: FutureWarning: The default value of regex will change from True to False in a future version.\n",
      "  \n",
      "/Users/udayts/opt/anaconda3/lib/python3.7/site-packages/ipykernel_launcher.py:7: FutureWarning: The default value of regex will change from True to False in a future version.\n",
      "  import sys\n"
     ]
    }
   ],
   "source": [
    "df_abstract[\"abstract_x_p_parsed3\"] = df_abstract[\"abstract_x_p_parsed2\"]\n",
    "df_bodytext[\"bodytext_p_parsed3\"] = df_bodytext[\"bodytext_p_parsed2\"]\n",
    "\n",
    "for stop_word in stop_words:\n",
    "    regex_stopword = r\"\\b\" + stop_word + r\"\\b\"\n",
    "    df_abstract[\"abstract_x_p_parsed3\"] = df_abstract[\"abstract_x_p_parsed3\"].str.replace(regex_stopword, \"\")\n",
    "    df_bodytext[\"bodytext_p_parsed3\"] = df_bodytext[\"bodytext_p_parsed3\"].str.replace(regex_stopword, \"\")"
   ]
  },
  {
   "cell_type": "code",
   "execution_count": 26,
   "id": "29320912",
   "metadata": {
    "ExecuteTime": {
     "end_time": "2021-09-15T07:31:00.667358Z",
     "start_time": "2021-09-15T07:31:00.645192Z"
    }
   },
   "outputs": [],
   "source": [
    "list_col_abstract = ['paper_id', 'abstract_x', 'mag_field_of_study', 'abstract_x_p_parsed3']\n",
    "list_col_bodytext = ['paper_id', 'mag_field_of_study', 'body_text', 'bodytext_p_parsed3']\n",
    "\n",
    "df_abstract1=df_abstract[list_col_abstract]\n",
    "df_bodytext1=df_bodytext[list_col_bodytext]\n",
    "\n",
    "df_abstract1=df_abstract1.rename(columns={\"abstract_x_p_parsed3\": \"abstract_parsed\"})\n",
    "df_bodytext1=df_bodytext1.rename(columns={\"bodytext_p_parsed3\": \"bodytext_parsed\"})"
   ]
  },
  {
   "cell_type": "markdown",
   "id": "0f872687",
   "metadata": {},
   "source": [
    "### 10. label coding"
   ]
  },
  {
   "cell_type": "code",
   "execution_count": 27,
   "id": "6e3839a8",
   "metadata": {
    "ExecuteTime": {
     "end_time": "2021-09-15T07:31:00.674587Z",
     "start_time": "2021-09-15T07:31:00.670550Z"
    }
   },
   "outputs": [],
   "source": [
    "fieldstudy_codes={\n",
    "    'Medicine': 0,\n",
    "    'Chemistry': 1,\n",
    "    'Physics': 2,\n",
    "    'Mathematics': 3,\n",
    "    'Biology': 4,\n",
    "    'Computer Science':5\n",
    "}"
   ]
  },
  {
   "cell_type": "code",
   "execution_count": 28,
   "id": "712a7492",
   "metadata": {
    "ExecuteTime": {
     "end_time": "2021-09-15T07:31:00.695488Z",
     "start_time": "2021-09-15T07:31:00.682929Z"
    }
   },
   "outputs": [],
   "source": [
    "df_abstract1[\"fieldstudy_code\"]= df_abstract1[\"mag_field_of_study\"]\n",
    "df_abstract1 = df_abstract1.replace({\"fieldstudy_code\":fieldstudy_codes})\n",
    "\n",
    "df_bodytext1[\"fieldstudy_code\"]= df_bodytext1[\"mag_field_of_study\"]\n",
    "df_bodytext1 = df_bodytext1.replace({\"fieldstudy_code\":fieldstudy_codes})"
   ]
  },
  {
   "cell_type": "code",
   "execution_count": 29,
   "id": "79c48568",
   "metadata": {
    "ExecuteTime": {
     "end_time": "2021-09-15T07:31:00.717084Z",
     "start_time": "2021-09-15T07:31:00.697855Z"
    }
   },
   "outputs": [],
   "source": [
    "df_abstract1.to_feather('abstract1.feather')\n",
    "df_bodytext1.to_feather('bodytext1.feather')"
   ]
  },
  {
   "cell_type": "code",
   "execution_count": 30,
   "id": "f64a5307",
   "metadata": {
    "ExecuteTime": {
     "end_time": "2021-09-15T07:31:00.726775Z",
     "start_time": "2021-09-15T07:31:00.719090Z"
    }
   },
   "outputs": [],
   "source": [
    "#X_train, X_test, y_train, y_test = train_test_split(df_abstract1[\"abstract_parsed\"], df_abstract1[\"fieldstudy_code\"], test_size=0.25, random_state=23, stratify=df_abstract1[\"fieldstudy_code\"])\n",
    "#X_train, X_test, y_train, y_test = train_test_split(df_bodytext1[\"bodytext_parsed\"], df_bodytext1[\"fieldstudy_code\"], test_size=0.25, random_state=23, stratify=df_bodytext1[\"fieldstudy_code\"])"
   ]
  },
  {
   "cell_type": "code",
   "execution_count": null,
   "id": "cb128f7d",
   "metadata": {},
   "outputs": [],
   "source": []
  }
 ],
 "metadata": {
  "kernelspec": {
   "display_name": "Python 3",
   "language": "python",
   "name": "python3"
  },
  "language_info": {
   "codemirror_mode": {
    "name": "ipython",
    "version": 3
   },
   "file_extension": ".py",
   "mimetype": "text/x-python",
   "name": "python",
   "nbconvert_exporter": "python",
   "pygments_lexer": "ipython3",
   "version": "3.7.10"
  },
  "toc": {
   "base_numbering": 1,
   "nav_menu": {},
   "number_sections": true,
   "sideBar": true,
   "skip_h1_title": false,
   "title_cell": "Table of Contents",
   "title_sidebar": "Contents",
   "toc_cell": false,
   "toc_position": {},
   "toc_section_display": true,
   "toc_window_display": false
  }
 },
 "nbformat": 4,
 "nbformat_minor": 5
}
