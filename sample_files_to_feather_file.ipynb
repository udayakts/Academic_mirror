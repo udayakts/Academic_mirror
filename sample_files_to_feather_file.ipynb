{
 "cells": [
  {
   "cell_type": "code",
   "execution_count": 1,
   "id": "8d88d4e9",
   "metadata": {},
   "outputs": [],
   "source": [
    "import pandas as pd\n",
    "import numpy as np\n",
    "import json as json"
   ]
  },
  {
   "cell_type": "markdown",
   "id": "05d58571",
   "metadata": {},
   "source": [
    "## converting jsonl files of the metadata and pdf_pases to data frames"
   ]
  },
  {
   "cell_type": "code",
   "execution_count": 2,
   "id": "bea6c767",
   "metadata": {},
   "outputs": [],
   "source": [
    "metadata_path = '20200705v1/sample/metadata/sample.jsonl'"
   ]
  },
  {
   "cell_type": "code",
   "execution_count": 3,
   "id": "f6eb6bdb",
   "metadata": {},
   "outputs": [],
   "source": [
    "df=pd.read_json(metadata_path, lines=True)"
   ]
  },
  {
   "cell_type": "code",
   "execution_count": 4,
   "id": "6ec9b7f1",
   "metadata": {},
   "outputs": [
    {
     "data": {
      "text/plain": [
       "Index(['paper_id', 'title', 'authors', 'abstract', 'year', 'arxiv_id',\n",
       "       'acl_id', 'pmc_id', 'pubmed_id', 'doi', 'venue', 'journal', 'mag_id',\n",
       "       'mag_field_of_study', 'outbound_citations', 'inbound_citations',\n",
       "       'has_outbound_citations', 'has_inbound_citations', 'has_pdf_parse',\n",
       "       's2_url', 'has_pdf_body_text', 'has_pdf_parsed_abstract',\n",
       "       'has_pdf_parsed_body_text', 'has_pdf_parsed_bib_entries',\n",
       "       'has_pdf_parsed_ref_entries'],\n",
       "      dtype='object')"
      ]
     },
     "execution_count": 4,
     "metadata": {},
     "output_type": "execute_result"
    }
   ],
   "source": [
    "df.keys()"
   ]
  },
  {
   "cell_type": "code",
   "execution_count": 5,
   "id": "b60e4f1d",
   "metadata": {},
   "outputs": [],
   "source": [
    "pdf_parses_path = '20200705v1/sample/pdf_parses/sample.jsonl'"
   ]
  },
  {
   "cell_type": "code",
   "execution_count": 6,
   "id": "42aae9fb",
   "metadata": {},
   "outputs": [],
   "source": [
    "df_pdf = pd.read_json(pdf_parses_path, lines=True)"
   ]
  },
  {
   "cell_type": "code",
   "execution_count": 7,
   "id": "c02b76d0",
   "metadata": {},
   "outputs": [
    {
     "data": {
      "text/plain": [
       "Index(['paper_id', '_pdf_hash', 'abstract', 'body_text', 'bib_entries',\n",
       "       'ref_entries'],\n",
       "      dtype='object')"
      ]
     },
     "execution_count": 7,
     "metadata": {},
     "output_type": "execute_result"
    }
   ],
   "source": [
    "df_pdf.keys()"
   ]
  },
  {
   "cell_type": "markdown",
   "id": "a4807949",
   "metadata": {},
   "source": [
    "## removing all columns except 'paper_id', 'abstract' and 'mag_field_of_study' and droping NaN value containging rows"
   ]
  },
  {
   "cell_type": "code",
   "execution_count": 8,
   "id": "946413a7",
   "metadata": {},
   "outputs": [],
   "source": [
    "df_abstract = df.filter(['paper_id', 'abstract', 'mag_field_of_study'])"
   ]
  },
  {
   "cell_type": "code",
   "execution_count": 9,
   "id": "257ffc08",
   "metadata": {},
   "outputs": [
    {
     "data": {
      "text/plain": [
       "Index(['paper_id', 'abstract', 'mag_field_of_study'], dtype='object')"
      ]
     },
     "execution_count": 9,
     "metadata": {},
     "output_type": "execute_result"
    }
   ],
   "source": [
    "df_abstract.keys()"
   ]
  },
  {
   "cell_type": "code",
   "execution_count": 10,
   "id": "eb85b4f7",
   "metadata": {},
   "outputs": [
    {
     "data": {
      "text/plain": [
       "paper_id                0\n",
       "abstract              512\n",
       "mag_field_of_study     47\n",
       "dtype: int64"
      ]
     },
     "execution_count": 10,
     "metadata": {},
     "output_type": "execute_result"
    }
   ],
   "source": [
    "df_abstract.isna().sum()"
   ]
  },
  {
   "cell_type": "code",
   "execution_count": 11,
   "id": "7a05faff",
   "metadata": {},
   "outputs": [],
   "source": [
    "df_abstract.dropna(inplace=True)"
   ]
  },
  {
   "cell_type": "code",
   "execution_count": 12,
   "id": "290608bf",
   "metadata": {},
   "outputs": [
    {
     "data": {
      "text/plain": [
       "paper_id              0\n",
       "abstract              0\n",
       "mag_field_of_study    0\n",
       "dtype: int64"
      ]
     },
     "execution_count": 12,
     "metadata": {},
     "output_type": "execute_result"
    }
   ],
   "source": [
    "df_abstract.isna().sum()"
   ]
  },
  {
   "cell_type": "code",
   "execution_count": 13,
   "id": "4bbaac41",
   "metadata": {},
   "outputs": [
    {
     "data": {
      "text/plain": [
       "Index(['paper_id', 'abstract', 'mag_field_of_study'], dtype='object')"
      ]
     },
     "execution_count": 13,
     "metadata": {},
     "output_type": "execute_result"
    }
   ],
   "source": [
    "df_abstract.columns"
   ]
  },
  {
   "cell_type": "code",
   "execution_count": 14,
   "id": "cf8239ab",
   "metadata": {},
   "outputs": [
    {
     "data": {
      "text/plain": [
       "(468, 3)"
      ]
     },
     "execution_count": 14,
     "metadata": {},
     "output_type": "execute_result"
    }
   ],
   "source": [
    "df_abstract.shape"
   ]
  },
  {
   "cell_type": "markdown",
   "id": "98d13020",
   "metadata": {},
   "source": [
    "## selecting rows with 'mag_field_of_study' columns values being only CS, Phy, Med, Bio, Chem and Mat"
   ]
  },
  {
   "cell_type": "code",
   "execution_count": 15,
   "id": "4cd98288",
   "metadata": {},
   "outputs": [
    {
     "data": {
      "text/plain": [
       "21    [Medicine]\n",
       "43    [Medicine]\n",
       "51    [Medicine]\n",
       "Name: mag_field_of_study, dtype: object"
      ]
     },
     "execution_count": 15,
     "metadata": {},
     "output_type": "execute_result"
    }
   ],
   "source": [
    "df_abstract.mag_field_of_study.head(3)"
   ]
  },
  {
   "cell_type": "code",
   "execution_count": 16,
   "id": "e8bde3cc",
   "metadata": {},
   "outputs": [
    {
     "data": {
      "text/plain": [
       "21    Medicine\n",
       "43    Medicine\n",
       "51    Medicine\n",
       "Name: mag_field_of_study, dtype: object"
      ]
     },
     "execution_count": 16,
     "metadata": {},
     "output_type": "execute_result"
    }
   ],
   "source": [
    "df_abstract.mag_field_of_study=df_abstract.mag_field_of_study.str[0]\n",
    "df_abstract.mag_field_of_study.head(3)"
   ]
  },
  {
   "cell_type": "code",
   "execution_count": 17,
   "id": "92862328",
   "metadata": {},
   "outputs": [
    {
     "data": {
      "text/plain": [
       "array(['Medicine', 'Engineering', 'Materials Science', 'Chemistry',\n",
       "       'Physics', 'Geology', 'Political Science', 'Business', 'Economics',\n",
       "       'Art', 'Mathematics', 'Biology', 'Computer Science', 'Psychology',\n",
       "       'Geography', 'Sociology', 'History', 'Philosophy'], dtype=object)"
      ]
     },
     "execution_count": 17,
     "metadata": {},
     "output_type": "execute_result"
    }
   ],
   "source": [
    "df_abstract.mag_field_of_study.unique()"
   ]
  },
  {
   "cell_type": "code",
   "execution_count": 18,
   "id": "2ef0dbe1",
   "metadata": {},
   "outputs": [],
   "source": [
    "df_abst_pmbccm = df_abstract.loc[df_abstract.mag_field_of_study.isin(['Computer Science', 'Physics', 'Medicine', 'Biology', 'Chemistry', 'Mathematics'])]"
   ]
  },
  {
   "cell_type": "code",
   "execution_count": 19,
   "id": "3494850f",
   "metadata": {},
   "outputs": [
    {
     "data": {
      "text/plain": [
       "array(['Medicine', 'Chemistry', 'Physics', 'Mathematics', 'Biology',\n",
       "       'Computer Science'], dtype=object)"
      ]
     },
     "execution_count": 19,
     "metadata": {},
     "output_type": "execute_result"
    }
   ],
   "source": [
    "df_abst_pmbccm.mag_field_of_study.unique()"
   ]
  },
  {
   "cell_type": "markdown",
   "id": "aede23e3",
   "metadata": {},
   "source": [
    "## merge metadata and pdf_parses"
   ]
  },
  {
   "cell_type": "code",
   "execution_count": 20,
   "id": "81c41916",
   "metadata": {},
   "outputs": [],
   "source": [
    "df_merged = df_abst_pmbccm.merge(df_pdf, on='paper_id', how='left')"
   ]
  },
  {
   "cell_type": "code",
   "execution_count": 21,
   "id": "05a37015",
   "metadata": {},
   "outputs": [
    {
     "data": {
      "text/plain": [
       "Index(['paper_id', 'abstract_x', 'mag_field_of_study', '_pdf_hash',\n",
       "       'abstract_y', 'body_text', 'bib_entries', 'ref_entries'],\n",
       "      dtype='object')"
      ]
     },
     "execution_count": 21,
     "metadata": {},
     "output_type": "execute_result"
    }
   ],
   "source": [
    "df_merged.columns"
   ]
  },
  {
   "cell_type": "code",
   "execution_count": 22,
   "id": "6bb571e2",
   "metadata": {},
   "outputs": [],
   "source": [
    "### droping columns of no relavance here"
   ]
  },
  {
   "cell_type": "code",
   "execution_count": 23,
   "id": "dbc06863",
   "metadata": {},
   "outputs": [
    {
     "data": {
      "text/plain": [
       "Index(['paper_id', 'abstract_x', 'mag_field_of_study', 'body_text'], dtype='object')"
      ]
     },
     "execution_count": 23,
     "metadata": {},
     "output_type": "execute_result"
    }
   ],
   "source": [
    "df_merged.drop(columns=['_pdf_hash', 'bib_entries', 'ref_entries', 'abstract_y'],  inplace=True)\n",
    "df_merged.columns"
   ]
  },
  {
   "cell_type": "code",
   "execution_count": 24,
   "id": "83f0fd28",
   "metadata": {},
   "outputs": [
    {
     "data": {
      "text/plain": [
       "paper_id                0\n",
       "abstract_x              0\n",
       "mag_field_of_study      0\n",
       "body_text             250\n",
       "dtype: int64"
      ]
     },
     "execution_count": 24,
     "metadata": {},
     "output_type": "execute_result"
    }
   ],
   "source": [
    "df_merged.isna().sum()"
   ]
  },
  {
   "cell_type": "code",
   "execution_count": 25,
   "id": "d13ab88e",
   "metadata": {},
   "outputs": [
    {
     "data": {
      "text/html": [
       "<div>\n",
       "<style scoped>\n",
       "    .dataframe tbody tr th:only-of-type {\n",
       "        vertical-align: middle;\n",
       "    }\n",
       "\n",
       "    .dataframe tbody tr th {\n",
       "        vertical-align: top;\n",
       "    }\n",
       "\n",
       "    .dataframe thead th {\n",
       "        text-align: right;\n",
       "    }\n",
       "</style>\n",
       "<table border=\"1\" class=\"dataframe\">\n",
       "  <thead>\n",
       "    <tr style=\"text-align: right;\">\n",
       "      <th></th>\n",
       "      <th>paper_id</th>\n",
       "      <th>abstract_x</th>\n",
       "      <th>mag_field_of_study</th>\n",
       "      <th>body_text</th>\n",
       "    </tr>\n",
       "  </thead>\n",
       "  <tbody>\n",
       "    <tr>\n",
       "      <th>0</th>\n",
       "      <td>77491955</td>\n",
       "      <td>OBJECTIVE: To report a case of a large, bilate...</td>\n",
       "      <td>Medicine</td>\n",
       "      <td>NaN</td>\n",
       "    </tr>\n",
       "    <tr>\n",
       "      <th>1</th>\n",
       "      <td>77493472</td>\n",
       "      <td>Leukotrienes (LTs) are important lipid mediato...</td>\n",
       "      <td>Medicine</td>\n",
       "      <td>NaN</td>\n",
       "    </tr>\n",
       "    <tr>\n",
       "      <th>2</th>\n",
       "      <td>77494170</td>\n",
       "      <td>A NDB bull weighing 350kg underwent a ruffian ...</td>\n",
       "      <td>Medicine</td>\n",
       "      <td>NaN</td>\n",
       "    </tr>\n",
       "    <tr>\n",
       "      <th>3</th>\n",
       "      <td>77495155</td>\n",
       "      <td>Background. The vertebral genesis of many func...</td>\n",
       "      <td>Medicine</td>\n",
       "      <td>NaN</td>\n",
       "    </tr>\n",
       "    <tr>\n",
       "      <th>4</th>\n",
       "      <td>77496281</td>\n",
       "      <td>Purpose: This study was conducted to determine...</td>\n",
       "      <td>Medicine</td>\n",
       "      <td>NaN</td>\n",
       "    </tr>\n",
       "    <tr>\n",
       "      <th>5</th>\n",
       "      <td>77497951</td>\n",
       "      <td>Introduction: Elderly patients (pts) with FL d...</td>\n",
       "      <td>Medicine</td>\n",
       "      <td>NaN</td>\n",
       "    </tr>\n",
       "    <tr>\n",
       "      <th>6</th>\n",
       "      <td>77498969</td>\n",
       "      <td>--- Introduction. The most common endocrine di...</td>\n",
       "      <td>Medicine</td>\n",
       "      <td>NaN</td>\n",
       "    </tr>\n",
       "    <tr>\n",
       "      <th>7</th>\n",
       "      <td>94551157</td>\n",
       "      <td>Abstract A semi-empirical formula for the disc...</td>\n",
       "      <td>Chemistry</td>\n",
       "      <td>NaN</td>\n",
       "    </tr>\n",
       "    <tr>\n",
       "      <th>8</th>\n",
       "      <td>94551239</td>\n",
       "      <td>Abstract Scanning probe-based memories have de...</td>\n",
       "      <td>Chemistry</td>\n",
       "      <td>[]</td>\n",
       "    </tr>\n",
       "    <tr>\n",
       "      <th>9</th>\n",
       "      <td>94551428</td>\n",
       "      <td>Abstract The influence of Na 2 HPO 4 ·12H 2 O ...</td>\n",
       "      <td>Chemistry</td>\n",
       "      <td>NaN</td>\n",
       "    </tr>\n",
       "  </tbody>\n",
       "</table>\n",
       "</div>"
      ],
      "text/plain": [
       "   paper_id                                         abstract_x  \\\n",
       "0  77491955  OBJECTIVE: To report a case of a large, bilate...   \n",
       "1  77493472  Leukotrienes (LTs) are important lipid mediato...   \n",
       "2  77494170  A NDB bull weighing 350kg underwent a ruffian ...   \n",
       "3  77495155  Background. The vertebral genesis of many func...   \n",
       "4  77496281  Purpose: This study was conducted to determine...   \n",
       "5  77497951  Introduction: Elderly patients (pts) with FL d...   \n",
       "6  77498969  --- Introduction. The most common endocrine di...   \n",
       "7  94551157  Abstract A semi-empirical formula for the disc...   \n",
       "8  94551239  Abstract Scanning probe-based memories have de...   \n",
       "9  94551428  Abstract The influence of Na 2 HPO 4 ·12H 2 O ...   \n",
       "\n",
       "  mag_field_of_study body_text  \n",
       "0           Medicine       NaN  \n",
       "1           Medicine       NaN  \n",
       "2           Medicine       NaN  \n",
       "3           Medicine       NaN  \n",
       "4           Medicine       NaN  \n",
       "5           Medicine       NaN  \n",
       "6           Medicine       NaN  \n",
       "7          Chemistry       NaN  \n",
       "8          Chemistry        []  \n",
       "9          Chemistry       NaN  "
      ]
     },
     "execution_count": 25,
     "metadata": {},
     "output_type": "execute_result"
    }
   ],
   "source": [
    "df_merged.head(10)"
   ]
  },
  {
   "cell_type": "markdown",
   "id": "cd41c9aa",
   "metadata": {},
   "source": [
    "## creating a function to filter body_text column to have only text key values"
   ]
  },
  {
   "cell_type": "code",
   "execution_count": 26,
   "id": "5794ca98",
   "metadata": {},
   "outputs": [
    {
     "data": {
      "text/plain": [
       "True"
      ]
     },
     "execution_count": 26,
     "metadata": {},
     "output_type": "execute_result"
    }
   ],
   "source": [
    "df_merged.body_text.isnull()[0]"
   ]
  },
  {
   "cell_type": "code",
   "execution_count": 27,
   "id": "534ce869",
   "metadata": {},
   "outputs": [
    {
     "data": {
      "text/plain": [
       "True"
      ]
     },
     "execution_count": 27,
     "metadata": {},
     "output_type": "execute_result"
    }
   ],
   "source": [
    "df_merged.body_text[1]!=df_merged.body_text[1]"
   ]
  },
  {
   "cell_type": "code",
   "execution_count": 28,
   "id": "6b968ae7",
   "metadata": {},
   "outputs": [
    {
     "data": {
      "text/plain": [
       "False"
      ]
     },
     "execution_count": 28,
     "metadata": {},
     "output_type": "execute_result"
    }
   ],
   "source": [
    "df_merged.body_text[95]!=df_merged.body_text[95]"
   ]
  },
  {
   "cell_type": "code",
   "execution_count": 29,
   "id": "e427d2fe",
   "metadata": {},
   "outputs": [],
   "source": [
    "def get_text(y):\n",
    "    if y!=y:\n",
    "        return np.nan\n",
    "    else:\n",
    "        text = ''\n",
    "        for dict_ in y:\n",
    "            text = text+' '+dict_['text']\n",
    "        return text"
   ]
  },
  {
   "cell_type": "code",
   "execution_count": 30,
   "id": "15a3751e",
   "metadata": {},
   "outputs": [],
   "source": [
    "df_merged.body_text = df_merged['body_text'].apply(get_text)"
   ]
  },
  {
   "cell_type": "markdown",
   "id": "c2006d67",
   "metadata": {},
   "source": [
    "## merged file is converted to a feather file"
   ]
  },
  {
   "cell_type": "code",
   "execution_count": 31,
   "id": "a1a6a640",
   "metadata": {},
   "outputs": [],
   "source": [
    "df_merged.to_feather('20200705v1/sample/df_merged.feather')"
   ]
  },
  {
   "cell_type": "code",
   "execution_count": 32,
   "id": "51b23ae9",
   "metadata": {},
   "outputs": [
    {
     "name": "stdout",
     "output_type": "stream",
     "text": [
      "df_merged.feather  \u001b[34mmetadata\u001b[m\u001b[m/          \u001b[34mpdf_parses\u001b[m\u001b[m/\r\n"
     ]
    }
   ],
   "source": [
    "ls 20200705v1/sample/"
   ]
  },
  {
   "cell_type": "code",
   "execution_count": null,
   "id": "cbbc2fe7",
   "metadata": {},
   "outputs": [],
   "source": []
  }
 ],
 "metadata": {
  "kernelspec": {
   "display_name": "Python 3",
   "language": "python",
   "name": "python3"
  },
  "language_info": {
   "codemirror_mode": {
    "name": "ipython",
    "version": 3
   },
   "file_extension": ".py",
   "mimetype": "text/x-python",
   "name": "python",
   "nbconvert_exporter": "python",
   "pygments_lexer": "ipython3",
   "version": "3.7.10"
  }
 },
 "nbformat": 4,
 "nbformat_minor": 5
}
